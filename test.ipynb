{
 "cells": [
  {
   "cell_type": "code",
   "execution_count": 14,
   "metadata": {},
   "outputs": [
    {
     "name": "stdout",
     "output_type": "stream",
     "text": [
      "Execution 1: 1.7784450054168701 seconds\n",
      "Execution 2: 1.2675299644470215 seconds\n",
      "Execution 3: 1.286318063735962 seconds\n",
      "Execution 4: 1.280285358428955 seconds\n",
      "Execution 5: 1.2759358882904053 seconds\n",
      "Execution 6: 1.3015508651733398 seconds\n",
      "Execution 7: 1.3220789432525635 seconds\n",
      "Execution 8: 1.3032660484313965 seconds\n",
      "Execution 9: 1.3463177680969238 seconds\n",
      "Execution 10: 1.2694430351257324 seconds\n",
      "Average execution time over 10 runs: 1.3431 seconds\n"
     ]
    }
   ],
   "source": [
    "import subprocess\n",
    "import time\n",
    "import re\n",
    "\n",
    "# 定义要执行的Python脚本路径\n",
    "script_name = 'sampling_fo2/wfomc.py'\n",
    "\n",
    "# 定义传递给Python脚本的参数\n",
    "script_args = ['-i', 'models/test.wfomcs', '-a', 'dp']\n",
    "\n",
    "# 定义执行次数\n",
    "number_of_executions = 10\n",
    "\n",
    "# 初始化总耗时\n",
    "total_time = 0.0\n",
    "\n",
    "# 构建完整的命令行参数列表\n",
    "full_command = ['python', script_name] + script_args\n",
    "\n",
    "# 循环执行脚本多次并测量时间\n",
    "for i in range(number_of_executions):\n",
    "    start_time = time.time()  # 记录本次执行的开始时间\n",
    "    # 使用subprocess.run执行命令，并捕获输出\n",
    "    _ = subprocess.run(full_command, capture_output=True, text=True)\n",
    "    end_time = time.time()  # 记录本次执行的结束时间\n",
    "    \n",
    "    # 本次执行的耗时\n",
    "    execution_time = end_time - start_time\n",
    "    print(f\"Execution {i + 1}: {execution_time} seconds\")\n",
    "    \n",
    "    # 累加总耗时\n",
    "    total_time += execution_time\n",
    "\n",
    "# 计算平均耗时\n",
    "average_time = total_time / number_of_executions\n",
    "print(f\"Average execution time over {number_of_executions} runs: {average_time:.4f} seconds\")"
   ]
  }
 ],
 "metadata": {
  "kernelspec": {
   "display_name": "wfoms_comb",
   "language": "python",
   "name": "python3"
  },
  "language_info": {
   "codemirror_mode": {
    "name": "ipython",
    "version": 3
   },
   "file_extension": ".py",
   "mimetype": "text/x-python",
   "name": "python",
   "nbconvert_exporter": "python",
   "pygments_lexer": "ipython3",
   "version": "3.10.0"
  }
 },
 "nbformat": 4,
 "nbformat_minor": 2
}
